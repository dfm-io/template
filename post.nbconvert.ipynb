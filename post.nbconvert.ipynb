{
 "cells": [
  {
   "cell_type": "code",
   "execution_count": 1,
   "metadata": {
    "execution": {
     "iopub.execute_input": "2022-06-05T17:10:23.238012Z",
     "iopub.status.busy": "2022-06-05T17:10:23.237541Z",
     "iopub.status.idle": "2022-06-05T17:10:25.330937Z",
     "shell.execute_reply": "2022-06-05T17:10:25.330090Z"
    }
   },
   "outputs": [],
   "source": [
    "import numpy as np\n",
    "import matplotlib.pyplot as plt"
   ]
  },
  {
   "cell_type": "code",
   "execution_count": 2,
   "metadata": {
    "execution": {
     "iopub.execute_input": "2022-06-05T17:10:25.335817Z",
     "iopub.status.busy": "2022-06-05T17:10:25.335058Z",
     "iopub.status.idle": "2022-06-05T17:10:25.347099Z",
     "shell.execute_reply": "2022-06-05T17:10:25.346450Z"
    }
   },
   "outputs": [
    {
     "name": "stdout",
     "output_type": "stream",
     "text": [
      "hi\n"
     ]
    }
   ],
   "source": [
    "print(\"hi\")"
   ]
  },
  {
   "cell_type": "code",
   "execution_count": 3,
   "metadata": {
    "execution": {
     "iopub.execute_input": "2022-06-05T17:10:25.368982Z",
     "iopub.status.busy": "2022-06-05T17:10:25.368733Z",
     "iopub.status.idle": "2022-06-05T17:10:25.373664Z",
     "shell.execute_reply": "2022-06-05T17:10:25.372940Z"
    }
   },
   "outputs": [
    {
     "name": "stdout",
     "output_type": "stream",
     "text": [
      "sup\n"
     ]
    }
   ],
   "source": [
    "print(\"sup\")"
   ]
  }
 ],
 "metadata": {
  "language_info": {
   "codemirror_mode": {
    "name": "ipython",
    "version": 3
   },
   "file_extension": ".py",
   "mimetype": "text/x-python",
   "name": "python",
   "nbconvert_exporter": "python",
   "pygments_lexer": "ipython3",
   "version": "3.9.13"
  }
 },
 "nbformat": 4,
 "nbformat_minor": 2
}
